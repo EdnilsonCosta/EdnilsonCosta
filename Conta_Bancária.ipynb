{
  "nbformat": 4,
  "nbformat_minor": 0,
  "metadata": {
    "colab": {
      "name": "Conta Bancária.ipynb",
      "provenance": [],
      "collapsed_sections": [],
      "authorship_tag": "ABX9TyM61P6WHpDSu8b2Xi0V0p0P",
      "include_colab_link": true
    },
    "kernelspec": {
      "name": "python3",
      "display_name": "Python 3"
    }
  },
  "cells": [
    {
      "cell_type": "markdown",
      "metadata": {
        "id": "view-in-github",
        "colab_type": "text"
      },
      "source": [
        "<a href=\"https://colab.research.google.com/github/edcostabh/WorkRepo/blob/main/Conta_Banc%C3%A1ria.ipynb\" target=\"_parent\"><img src=\"https://colab.research.google.com/assets/colab-badge.svg\" alt=\"Open In Colab\"/></a>"
      ]
    },
    {
      "cell_type": "markdown",
      "metadata": {
        "id": "R7hC9t2ETa5c"
      },
      "source": [
        "# **PROGRAMA ORIENTADO A OBJETOS**\n",
        "\n",
        "# *Caso Conta Bancária*\n",
        "\n",
        "Foi criado uma classe para tratar Cliente, outra para Conta e uma última para registrar o histótico de transações.\n",
        "\n",
        "Nota: Este é um código base para demonstrar com funciona as integrações entre as classes."
      ]
    },
    {
      "cell_type": "code",
      "metadata": {
        "id": "VzMDp8-qIlLl"
      },
      "source": [
        "## Classe Cliente, trata os dados de numero da conta, nome do titular da conta e o telefone.\n",
        "\n",
        "class Cliente:\n",
        "    def __init__(self, numero, cliente, telefone):\n",
        "        self.numero = numero\n",
        "        self.cliente = cliente\n",
        "        self.telefone = telefone\n",
        "\n",
        "## Vincula o cliente a uma conta e histórico de transações\n",
        "\n",
        "class Conta:\n",
        "    def __init__(self, numero, saldo, limite):\n",
        "        self.numero = numero\n",
        "        self.saldo = saldo\n",
        "        self.limite = limite\n",
        "        self.historico = Historico()\n",
        "\n",
        "    ## Função DEPOSITA, retirar um valor predeterminado da conta e registra no histórico\n",
        "    ## A variável 'x' é usada para determinar a quantidade de espaços entre a\n",
        "    ## descrição e o valor sacado.\n",
        "   \n",
        "    def deposita(self, valor):\n",
        "        x = len(self.numero) ## o \"x\" foi usado para determinar o tamanho do campo do valor de deposito, que irá ser usado para gravar o dado no histórico.\n",
        "        self.saldo += valor\n",
        "        self.historico.transacoes.append(\"DEPÓSITO\"+(\" \"*(20-(5+x)))+\"%.2f\" % valor) # adiciona transação ao histórico e usa o \"x\" para calcular o espaçamento entre a descrição e valor.\n",
        "\n",
        "    ## Função SACA, retirar um valor predeterminado da conta e registra no histórico\n",
        "    ## A variável 'x' é usada para determinar a quantidade de espaços entre a\n",
        "    ## descrição e o valor sacado.\n",
        "    \n",
        "    def saca(self, valor):\n",
        "        x = len(self.numero) \n",
        "        self.saldo -= valor\n",
        "        self.historico.transacoes.append(\"SAQUE\"+(\" \"*(23-(5+x)))+\"%.2f\" % valor)\n",
        "\n",
        "    ## função EXTRATO, gera o extrato com as transações, saldo,\n",
        "    ## limite e valor disponível, e imprime \"Saldo Insuficiente\"\n",
        "    ## se saldo estiver negativo.\n",
        "\n",
        "    def extrato(self): \n",
        "        x = len(self.numero)\n",
        "        print(\"Extrato CC No. \", self.numero)\n",
        "        print(\"\")\n",
        "        self.historico.imprime()\n",
        "        print(\"\")\n",
        "        print(\"Saldo:\"+(\" \"*(24-(6+x)))+\"%.2f\" % self.saldo)\n",
        "        print(\"\")\n",
        "        print(\"Limite:\"+(\" \"*(24-(7+x)))+\"%.2f\" % self.limite)\n",
        "        print(\"\")\n",
        "        print(\"Disponível:\"+(\" \"*(24-(11+x)))+\"%.2f\" % (self.saldo + self.limite))\n",
        "        if self.saldo < 0:\n",
        "            print(\"\\nSaldo Insuficiente!\")\n",
        "\n",
        "## Classe Historico registra todas as tranções e imprime o histórico.\n",
        "class Historico:\n",
        "    def __init__(self):\n",
        "        self.transacoes = []\n",
        "\n",
        "    def imprime(self):\n",
        "        for t in self.transacoes:\n",
        "            print(\"-\", t)   "
      ],
      "execution_count": 1,
      "outputs": []
    },
    {
      "cell_type": "markdown",
      "metadata": {
        "id": "xjOawt8lZ8NV"
      },
      "source": [
        "# *Teste de inclusão de Cliente e Conta*"
      ]
    },
    {
      "cell_type": "code",
      "metadata": {
        "id": "iOPzglmEIrs4"
      },
      "source": [
        "x_num = '123-4'  \n",
        "x_cli = 'José Roberto'\n",
        "x_tel = '1234-5678'\n",
        "x_sal = 0.0\n",
        "x_lim = 1000.0\n",
        "\n",
        "cliente = Cliente(x_num, x_cli, x_tel)\n",
        "conta = Conta(x_num, x_sal, x_lim)"
      ],
      "execution_count": 2,
      "outputs": []
    },
    {
      "cell_type": "markdown",
      "metadata": {
        "id": "nEN2k4IAZ7f9"
      },
      "source": [
        "# *Teste de movimentação da Conta*\n",
        "Você pode realizar quantas movimentações quiser e depois executar a função de extrato para ver o resultado"
      ]
    },
    {
      "cell_type": "code",
      "metadata": {
        "id": "t3H3TPpBIvtK"
      },
      "source": [
        "conta.deposita(5000.00)\n",
        "conta.saca(6000.00)"
      ],
      "execution_count": 3,
      "outputs": []
    },
    {
      "cell_type": "markdown",
      "metadata": {
        "id": "pAEgfFHWbU34"
      },
      "source": [
        "# *Teste da Função Extrato*"
      ]
    },
    {
      "cell_type": "code",
      "metadata": {
        "colab": {
          "base_uri": "https://localhost:8080/"
        },
        "id": "XgwxxOrtPR7z",
        "outputId": "a0b9794c-2a9e-4286-cb4d-22168fc53bc1"
      },
      "source": [
        "conta.extrato()"
      ],
      "execution_count": 4,
      "outputs": [
        {
          "output_type": "stream",
          "text": [
            "Extrato CC No.  123-4\n",
            "\n",
            "- DEPÓSITO          5000.00\n",
            "- SAQUE             6000.00\n",
            "\n",
            "Saldo:             -1000.00\n",
            "\n",
            "Limite:            1000.00\n",
            "\n",
            "Disponível:        0.00\n",
            "\n",
            "Saldo Insuficiente!\n"
          ],
          "name": "stdout"
        }
      ]
    }
  ]
}